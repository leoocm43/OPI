﻿{
  "metadata": {
    "name": "OPI_Ejercicio1",
    "kernelspec": {
      "language": "scala",
      "name": "spark2-scala"
    },
    "language_info": {
      "codemirror_mode": "text/x-scala",
      "file_extension": ".scala",
      "mimetype": "text/x-scala",
      "name": "scala",
      "pygments_lexer": "scala"
    }
  },
  "nbformat": 4,
  "nbformat_minor": 2,
  "cells": [
    {
      "cell_type": "code",
      "execution_count": 0,
      "metadata": {
        "autoscroll": "auto"
      },
      "outputs": [],
      "source": "//Se crea DataFrame a partir del archivo all_data.csv\n\nval profeco\u003d spark.read.options(Map(\"inferSchema\"-\u003e\"true\",\"header\"-\u003e\"true\")).csv(\"/home/leoocm/Documents/all_data.csv\")\n\n"
    },
    {
      "cell_type": "code",
      "execution_count": 1,
      "metadata": {
        "autoscroll": "auto"
      },
      "outputs": [],
      "source": "profeco.show()"
    },
    {
      "cell_type": "code",
      "execution_count": 2,
      "metadata": {
        "autoscroll": "auto"
      },
      "outputs": [],
      "source": "//Vista creada con base en el DataFrame profeco\nprofeco.createOrReplaceTempView(\"profeco_tmp\");\n//spark.sql(\"drop table if exists profeco\");\n//spark.sql(\"create table profeco as select * from profeco_tmp\");"
    },
    {
      "cell_type": "code",
      "execution_count": 3,
      "metadata": {
        "autoscroll": "auto"
      },
      "outputs": [],
      "source": "\n/*Opción 1:\nval registros \u003d profeco.select(\"producto\").count()\n*/\n/*Opción 2:\nval registros \u003d spark.sql(\"select count(*) as Registros from profeco_tmp\")\nregistros.show()\n*/\nval registros \u003d spark.sql(\"select count(*) as Registros from profeco_tmp\")\nregistros.show()"
    },
    {
      "cell_type": "code",
      "execution_count": 4,
      "metadata": {
        "autoscroll": "auto"
      },
      "outputs": [],
      "source": "\n/*Opción 1:\nval categorias \u003d profeco.select(\"categoria\").distinct().count()\n*/\n/*Opción 2:\n*/\nval categorias \u003d spark.sql(\"select count(DISTINCT categoria) as categorias from profeco_tmp\")\ncategorias.show()\n"
    },
    {
      "cell_type": "code",
      "execution_count": 5,
      "metadata": {
        "autoscroll": "auto"
      },
      "outputs": [],
      "source": "/*Opción 1:\nval categorias \u003d profeco.select(\"cadenaComercial\").distinct().count()\n*/\n\nval cadenas\u003d spark.sql(\"select count(DISTINCT cadenaComercial) as CadenasRegistradas from profeco_tmp\")\ncadenas.show()\n"
    },
    {
      "cell_type": "code",
      "execution_count": 6,
      "metadata": {
        "autoscroll": "auto"
      },
      "outputs": [],
      "source": "\n//select estado, producto, count(producto) as total from profeco_tmp group by estado,producto order by total asc \nval productos \u003d profeco.groupBy(\"producto\", \"estado\").count().sort(desc(\"count\"))\nproductos.show()"
    },
    {
      "cell_type": "code",
      "execution_count": 7,
      "metadata": {
        "autoscroll": "auto"
      },
      "outputs": [],
      "source": "val maxCadena \u003d profeco.groupBy(\"cadenaComercial\").count().sort(desc(\"count\")).take(1)\n\nmaxCadena"
    }
  ]
}